{
 "cells": [
  {
   "cell_type": "code",
   "execution_count": 4,
   "metadata": {},
   "outputs": [
    {
     "data": {
      "text/plain": [
       "{'divide': 'warn', 'invalid': 'warn', 'over': 'warn', 'under': 'ignore'}"
      ]
     },
     "execution_count": 4,
     "metadata": {},
     "output_type": "execute_result"
    }
   ],
   "source": [
    "import sys\n",
    "import numpy as np\n",
    "sys.path.append('..')\n",
    "from nptk.mappers import NeuronMapper\n",
    "\n",
    "NeuronMapper.setPrecision(127)\n",
    "\n",
    "# Ignore divide by 0 error\n",
    "np.seterr(all='ignore')"
   ]
  },
  {
   "cell_type": "code",
   "execution_count": 28,
   "metadata": {
    "scrolled": false
   },
   "outputs": [
    {
     "name": "stdout",
     "output_type": "stream",
     "text": [
      "Input: [1], Output: 1.000000, Expected: 1.000000, Error: 0.000000\n",
      "Input: [2], Output: 2.000000, Expected: 2.000000, Error: 0.000000\n",
      "Input: [-1], Output: -1.000000, Expected: -1.000000, Error: 0.000000\n",
      "Input: [10], Output: 10.000000, Expected: 10.000000, Error: 0.000000\n",
      "Output Gain: 1\n"
     ]
    },
    {
     "data": {
      "text/plain": [
       "array([0.])"
      ]
     },
     "execution_count": 28,
     "metadata": {},
     "output_type": "execute_result"
    }
   ],
   "source": [
    "weights = np.array([1])\n",
    "unityNeuron = NeuronMapper.build(weights)\n",
    "\n",
    "for v in ([1], [2], [-1], [10]):\n",
    "    computed = unityNeuron.compute(v)\n",
    "    expected = np.dot(weights, v)\n",
    "    err = (expected - computed) / expected\n",
    "    print(\"Input: {}, Output: {:f}, Expected: {:f}, Error: {:f}\".format(v, computed, expected, err))    \n",
    "    \n",
    "print(\"Output Gain: {}\".format(unityNeuron.outputGain))\n",
    "unityNeuron.phaseShifts"
   ]
  },
  {
   "cell_type": "code",
   "execution_count": 29,
   "metadata": {},
   "outputs": [
    {
     "name": "stdout",
     "output_type": "stream",
     "text": [
      "Input: [1], Output: 2.000000, Expected: 2.000000, Error: 0.000000\n",
      "Input: [2], Output: 4.000000, Expected: 4.000000, Error: 0.000000\n",
      "Input: [-1], Output: -2.000000, Expected: -2.000000, Error: 0.000000\n",
      "Input: [10], Output: 20.000000, Expected: 20.000000, Error: 0.000000\n",
      "Output Gain: 2\n"
     ]
    },
    {
     "data": {
      "text/plain": [
       "array([0.])"
      ]
     },
     "execution_count": 29,
     "metadata": {},
     "output_type": "execute_result"
    }
   ],
   "source": [
    "weights = np.array([2])\n",
    "doublingNeuron = NeuronMapper.build(weights)\n",
    "\n",
    "for v in ([1], [2], [-1], [10]):\n",
    "    computed = doublingNeuron.compute(v)\n",
    "    expected = np.dot(weights, v)\n",
    "    err = (expected - computed) / expected\n",
    "    print(\"Input: {}, Output: {:f}, Expected: {:f}, Error: {:f}\".format(v, computed, expected, err))\n",
    "\n",
    "print(\"Output Gain: {}\".format(doublingNeuron.outputGain))\n",
    "unityNeuron.phaseShifts"
   ]
  },
  {
   "cell_type": "code",
   "execution_count": 30,
   "metadata": {},
   "outputs": [
    {
     "name": "stdout",
     "output_type": "stream",
     "text": [
      "Input: [1], Output: 0.000016, Expected: 0.000000, Error: 0.000000\n",
      "Input: [2], Output: 0.000032, Expected: 0.000000, Error: 0.000000\n",
      "Input: [-1], Output: -0.000016, Expected: 0.000000, Error: 0.000000\n",
      "Input: [10], Output: 0.000159, Expected: 0.000000, Error: 0.000000\n",
      "Output Gain: 1\n"
     ]
    }
   ],
   "source": [
    "weights = np.array([0])\n",
    "nullNeuron = NeuronMapper.build(weights)\n",
    "\n",
    "for v in ([1], [2], [-1], [10]):\n",
    "    computed = nullNeuron.compute(v)\n",
    "    expected = np.dot(weights, v)\n",
    "    print(\"Input: {}, Output: {:f}, Expected: {:f}, Error: {:f}\".format(v, computed, expected, err))\n",
    "\n",
    "\n",
    "print(\"Output Gain: {}\".format(nullNeuron.outputGain))"
   ]
  },
  {
   "cell_type": "code",
   "execution_count": 31,
   "metadata": {},
   "outputs": [
    {
     "name": "stdout",
     "output_type": "stream",
     "text": [
      "Input: [1, 1], Output: 2.000000, Expected: 2.000000, Error: 0.000000\n",
      "Input: [2, 2], Output: 4.000000, Expected: 4.000000, Error: 0.000000\n",
      "Input: [-1, 1], Output: 0.000000, Expected: 0.000000, Error: nan\n",
      "Input: [10, 1], Output: 11.000000, Expected: 11.000000, Error: 0.000000\n",
      "Output Gain: 1\n"
     ]
    }
   ],
   "source": [
    "weights = np.array([1, 1])\n",
    "twoSumNeuron = NeuronMapper.build(weights)\n",
    "\n",
    "for v in ([1, 1], [2, 2], [-1, 1], [10, 1]):\n",
    "    computed = twoSumNeuron.compute(v)\n",
    "    expected = np.dot(weights, v)\n",
    "    err = (expected - computed) / expected\n",
    "    print(\"Input: {}, Output: {:f}, Expected: {:f}, Error: {:f}\".format(v, computed, expected, err))\n",
    "\n",
    "print(\"Output Gain: {}\".format(twoSumNeuron.outputGain))"
   ]
  },
  {
   "cell_type": "code",
   "execution_count": 32,
   "metadata": {},
   "outputs": [
    {
     "name": "stdout",
     "output_type": "stream",
     "text": [
      "Input: [1, 1], Output: 0.000202, Expected: 0.000000, Error: -inf\n",
      "Input: [2, 2], Output: 0.000404, Expected: 0.000000, Error: -inf\n",
      "Input: [-1, 1], Output: -1.999798, Expected: -2.000000, Error: 0.000101\n",
      "Input: [10, 1], Output: 9.000202, Expected: 9.000000, Error: -0.000022\n",
      "Output Gain: 1\n"
     ]
    }
   ],
   "source": [
    "weights = np.array([1, -1])\n",
    "twoSubNeuron = NeuronMapper.build(weights)\n",
    "\n",
    "for v in ([1, 1], [2, 2], [-1, 1], [10, 1]):\n",
    "    computed = twoSubNeuron.compute(v)\n",
    "    expected = np.dot(weights, v)\n",
    "    err = (expected - computed) / expected\n",
    "    print(\"Input: {}, Output: {:f}, Expected: {:f}, Error: {:f}\".format(v, computed, expected, err))\n",
    "\n",
    "print(\"Output Gain: {}\".format(twoSubNeuron.outputGain))"
   ]
  },
  {
   "cell_type": "code",
   "execution_count": 5,
   "metadata": {},
   "outputs": [
    {
     "name": "stdout",
     "output_type": "stream",
     "text": [
      "Input: [1, 10, 3, 2, 0], Output: -15.999319, Expected: -16.000000, Error: 0.000043\n",
      "Input: [1, 1, 1, 1, 1], Output: 12.000373, Expected: 12.000000, Error: -0.000031\n",
      "Input: [-7, 0.214, 22, 0.7, 2], Output: 91.365993, Expected: 91.358000, Error: -0.000087\n",
      "Output Gain: 9\n"
     ]
    }
   ],
   "source": [
    "weights = np.array([2, -3, 4, 0, 9])\n",
    "twoSubNeuron = NeuronMapper.build(weights)\n",
    "\n",
    "for v in ([1, 10, 3, 2, 0], [1, 1, 1, 1, 1], [-7, 0.214, 22, 0.7, 2]):\n",
    "    computed = twoSubNeuron.compute(v)\n",
    "    expected = np.dot(weights, v)\n",
    "    err = (expected - computed) / expected\n",
    "    print(\"Input: {}, Output: {:f}, Expected: {:f}, Error: {:f}\".format(v, computed, expected, err))\n",
    "\n",
    "print(\"Output Gain: {}\".format(twoSubNeuron.outputGain))"
   ]
  },
  {
   "cell_type": "code",
   "execution_count": null,
   "metadata": {},
   "outputs": [],
   "source": []
  }
 ],
 "metadata": {
  "kernelspec": {
   "display_name": "Python 3",
   "language": "python",
   "name": "python3"
  },
  "language_info": {
   "codemirror_mode": {
    "name": "ipython",
    "version": 3
   },
   "file_extension": ".py",
   "mimetype": "text/x-python",
   "name": "python",
   "nbconvert_exporter": "python",
   "pygments_lexer": "ipython3",
   "version": "3.6.5"
  }
 },
 "nbformat": 4,
 "nbformat_minor": 2
}
