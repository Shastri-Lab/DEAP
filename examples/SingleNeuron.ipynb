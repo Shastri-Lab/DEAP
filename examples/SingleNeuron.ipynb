{
 "cells": [
  {
   "cell_type": "code",
   "execution_count": 1,
   "metadata": {},
   "outputs": [
    {
     "data": {
      "text/plain": [
       "{'divide': 'warn', 'invalid': 'warn', 'over': 'warn', 'under': 'ignore'}"
      ]
     },
     "execution_count": 1,
     "metadata": {},
     "output_type": "execute_result"
    }
   ],
   "source": [
    "import sys\n",
    "import numpy as np\n",
    "sys.path.append('..')\n",
    "from nptk.mappers import NeuronMapper\n",
    "\n",
    "NeuronMapper.setPrecision(127)\n",
    "\n",
    "# Ignore divide by 0 error\n",
    "np.seterr(all='ignore')"
   ]
  },
  {
   "cell_type": "code",
   "execution_count": 2,
   "metadata": {
    "scrolled": false
   },
   "outputs": [
    {
     "name": "stdout",
     "output_type": "stream",
     "text": [
      "Input: [1], Output: -0.999780, Expected: -1.000000, Error: 0.000220\n",
      "Input: [2], Output: -1.999560, Expected: -2.000000, Error: 0.000220\n",
      "Input: [-1], Output: 0.999780, Expected: 1.000000, Error: 0.000220\n",
      "Input: [10], Output: -9.997800, Expected: -10.000000, Error: 0.000220\n",
      "Output Gain: 1\n"
     ]
    },
    {
     "data": {
      "text/plain": [
       "array([2.5614631])"
      ]
     },
     "execution_count": 2,
     "metadata": {},
     "output_type": "execute_result"
    }
   ],
   "source": [
    "weights = np.array([-1])\n",
    "unityNeuron = NeuronMapper.build(weights)\n",
    "\n",
    "for v in ([1], [2], [-1], [10]):\n",
    "    computed = unityNeuron.compute(v)\n",
    "    expected = np.dot(weights, v)\n",
    "    err = (expected - computed) / expected\n",
    "    print(\"Input: {}, Output: {:f}, Expected: {:f}, Error: {:f}\".format(v, computed, expected, err))    \n",
    "    \n",
    "print(\"Output Gain: {}\".format(unityNeuron.outputGain))\n",
    "unityNeuron.phaseShifts"
   ]
  },
  {
   "cell_type": "code",
   "execution_count": 3,
   "metadata": {},
   "outputs": [
    {
     "name": "stdout",
     "output_type": "stream",
     "text": [
      "Input: [1], Output: 2.000000, Expected: 2.000000, Error: 0.000000\n",
      "Input: [2], Output: 4.000000, Expected: 4.000000, Error: 0.000000\n",
      "Input: [-1], Output: -2.000000, Expected: -2.000000, Error: 0.000000\n",
      "Input: [10], Output: 20.000000, Expected: 20.000000, Error: 0.000000\n",
      "Output Gain: 2\n"
     ]
    },
    {
     "data": {
      "text/plain": [
       "array([2.5614631])"
      ]
     },
     "execution_count": 3,
     "metadata": {},
     "output_type": "execute_result"
    }
   ],
   "source": [
    "weights = np.array([2])\n",
    "doublingNeuron = NeuronMapper.build(weights)\n",
    "\n",
    "for v in ([1], [2], [-1], [10]):\n",
    "    computed = doublingNeuron.compute(v)\n",
    "    expected = np.dot(weights, v)\n",
    "    err = (expected - computed) / expected\n",
    "    print(\"Input: {}, Output: {:f}, Expected: {:f}, Error: {:f}\".format(v, computed, expected, err))\n",
    "\n",
    "print(\"Output Gain: {}\".format(doublingNeuron.outputGain))\n",
    "unityNeuron.phaseShifts"
   ]
  },
  {
   "cell_type": "code",
   "execution_count": 4,
   "metadata": {},
   "outputs": [
    {
     "name": "stdout",
     "output_type": "stream",
     "text": [
      "Input: [1], Output: 0.000110, Expected: 0.000000, Error: 0.000000\n",
      "Input: [2], Output: 0.000220, Expected: 0.000000, Error: 0.000000\n",
      "Input: [-1], Output: -0.000110, Expected: 0.000000, Error: 0.000000\n",
      "Input: [10], Output: 0.001100, Expected: 0.000000, Error: 0.000000\n",
      "Output Gain: 1\n"
     ]
    }
   ],
   "source": [
    "weights = np.array([0])\n",
    "nullNeuron = NeuronMapper.build(weights)\n",
    "\n",
    "for v in ([1], [2], [-1], [10]):\n",
    "    computed = nullNeuron.compute(v)\n",
    "    expected = np.dot(weights, v)\n",
    "    print(\"Input: {}, Output: {:f}, Expected: {:f}, Error: {:f}\".format(v, computed, expected, err))\n",
    "\n",
    "\n",
    "print(\"Output Gain: {}\".format(nullNeuron.outputGain))"
   ]
  },
  {
   "cell_type": "code",
   "execution_count": 5,
   "metadata": {},
   "outputs": [
    {
     "name": "stdout",
     "output_type": "stream",
     "text": [
      "Input: [1, 1], Output: 2.000000, Expected: 2.000000, Error: 0.000000\n",
      "Input: [2, 2], Output: 4.000000, Expected: 4.000000, Error: 0.000000\n",
      "Input: [-1, 1], Output: 0.000000, Expected: 0.000000, Error: nan\n",
      "Input: [10, 1], Output: 11.000000, Expected: 11.000000, Error: 0.000000\n",
      "Output Gain: 1\n"
     ]
    }
   ],
   "source": [
    "weights = np.array([1, 1])\n",
    "twoSumNeuron = NeuronMapper.build(weights)\n",
    "\n",
    "for v in ([1, 1], [2, 2], [-1, 1], [10, 1]):\n",
    "    computed = twoSumNeuron.compute(v)\n",
    "    expected = np.dot(weights, v)\n",
    "    err = (expected - computed) / expected\n",
    "    print(\"Input: {}, Output: {:f}, Expected: {:f}, Error: {:f}\".format(v, computed, expected, err))\n",
    "\n",
    "print(\"Output Gain: {}\".format(twoSumNeuron.outputGain))"
   ]
  },
  {
   "cell_type": "code",
   "execution_count": 6,
   "metadata": {},
   "outputs": [
    {
     "name": "stdout",
     "output_type": "stream",
     "text": [
      "Input: [1, 1], Output: 0.000220, Expected: 0.000000, Error: -inf\n",
      "Input: [2, 2], Output: 0.000440, Expected: 0.000000, Error: -inf\n",
      "Input: [-1, 1], Output: -1.999780, Expected: -2.000000, Error: 0.000110\n",
      "Input: [10, 1], Output: 9.000220, Expected: 9.000000, Error: -0.000024\n",
      "Output Gain: 1\n"
     ]
    }
   ],
   "source": [
    "weights = np.array([1, -1])\n",
    "twoSubNeuron = NeuronMapper.build(weights)\n",
    "\n",
    "for v in ([1, 1], [2, 2], [-1, 1], [10, 1]):\n",
    "    computed = twoSubNeuron.compute(v)\n",
    "    expected = np.dot(weights, v)\n",
    "    err = (expected - computed) / expected\n",
    "    print(\"Input: {}, Output: {:f}, Expected: {:f}, Error: {:f}\".format(v, computed, expected, err))\n",
    "\n",
    "print(\"Output Gain: {}\".format(twoSubNeuron.outputGain))"
   ]
  },
  {
   "cell_type": "code",
   "execution_count": 8,
   "metadata": {},
   "outputs": [
    {
     "name": "stdout",
     "output_type": "stream",
     "text": [
      "Input: [1, 10, 3, 2, 0], Output: -15.982400, Expected: -16.000000, Error: 0.001100\n",
      "Input: [1, 1, 1, 1, 1], Output: 12.003630, Expected: 12.000000, Error: -0.000302\n",
      "Input: [-7, 0.214, 22, 0.7, 2], Output: 91.365685, Expected: 91.358000, Error: -0.000084\n",
      "Output Gain: 9\n"
     ]
    }
   ],
   "source": [
    "weights = np.array([2, -3, 4, 0, 9])\n",
    "twoSubNeuron = NeuronMapper.build(weights)\n",
    "\n",
    "for v in ([1, 10, 3, 2, 0], [1, 1, 1, 1, 1], [-7, 0.214, 22, 0.7, 2]):\n",
    "    computed = twoSubNeuron.compute(v)\n",
    "    expected = np.dot(weights, v)\n",
    "    err = (expected - computed) / expected\n",
    "    print(\"Input: {}, Output: {:f}, Expected: {:f}, Error: {:f}\".format(v, computed, expected, err))\n",
    "\n",
    "print(\"Output Gain: {}\".format(twoSubNeuron.outputGain))"
   ]
  },
  {
   "cell_type": "code",
   "execution_count": null,
   "metadata": {},
   "outputs": [],
   "source": []
  }
 ],
 "metadata": {
  "kernelspec": {
   "display_name": "Python 3",
   "language": "python",
   "name": "python3"
  },
  "language_info": {
   "codemirror_mode": {
    "name": "ipython",
    "version": 3
   },
   "file_extension": ".py",
   "mimetype": "text/x-python",
   "name": "python",
   "nbconvert_exporter": "python",
   "pygments_lexer": "ipython3",
   "version": "3.6.5"
  }
 },
 "nbformat": 4,
 "nbformat_minor": 2
}
